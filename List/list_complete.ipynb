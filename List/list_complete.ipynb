{
 "cells": [
  {
   "cell_type": "markdown",
   "metadata": {},
   "source": [
    "### Lists\n",
    "Lists are collection of data enclosed within [ ] and separated by commas.\n",
    "\n",
    "<strong>The items in a list have a <b>defined order</b>, and <b><u>that order will not change.</u></b>"
   ]
  },
  {
   "cell_type": "code",
   "execution_count": 34,
   "metadata": {},
   "outputs": [],
   "source": [
    "# let's create a \"python list\" fruits\n",
    "\n",
    "fruits = [\"apple\", \"banana\", \"strawberry\"]\n",
    "# list containing strings"
   ]
  },
  {
   "cell_type": "code",
   "execution_count": 35,
   "metadata": {},
   "outputs": [
    {
     "name": "stdout",
     "output_type": "stream",
     "text": [
      "there are 3 items in the above list.\n"
     ]
    }
   ],
   "source": [
    "# len() function allows to count the number of items present in the list\n",
    "length_of_fruits = len(fruits)\n",
    "print(f\"there are {length_of_fruits} items in the above list.\")"
   ]
  },
  {
   "cell_type": "code",
   "execution_count": 36,
   "metadata": {},
   "outputs": [
    {
     "name": "stdout",
     "output_type": "stream",
     "text": [
      "['apple', 'banana', 'strawberry']\n"
     ]
    }
   ],
   "source": [
    "# executing a list\n",
    "print(fruits)"
   ]
  },
  {
   "cell_type": "code",
   "execution_count": 37,
   "metadata": {},
   "outputs": [
    {
     "name": "stdout",
     "output_type": "stream",
     "text": [
      "apple banana strawberry "
     ]
    }
   ],
   "source": [
    "# can also execute list using \"for\" loop\n",
    "for i in fruits:\n",
    "    print(i, end=\" \")\n",
    "    \n",
    "# above we found 3 items"
   ]
  },
  {
   "cell_type": "markdown",
   "metadata": {},
   "source": [
    "### List Indexing\n",
    "accessing elements in the lists can be achieved using <b>index number</b>\n",
    "\n",
    "<strong><em>indexing follows <u>whole number system</u> i.e. 0, 1, 2, 3...</em></strong>\n",
    "\n",
    "<p> it can be achieved by using <b>index operator</b> [ ] </p>"
   ]
  },
  {
   "cell_type": "code",
   "execution_count": 38,
   "metadata": {},
   "outputs": [
    {
     "data": {
      "text/plain": [
       "['apple', 'banana', 'strawberry']"
      ]
     },
     "execution_count": 38,
     "metadata": {},
     "output_type": "execute_result"
    }
   ],
   "source": [
    "fruits"
   ]
  },
  {
   "cell_type": "code",
   "execution_count": 39,
   "metadata": {},
   "outputs": [
    {
     "name": "stdout",
     "output_type": "stream",
     "text": [
      "apple banana strawberry\n"
     ]
    }
   ],
   "source": [
    "# index\n",
    "# using fruits[index_value]\n",
    "\n",
    "# len(fruits) = 3 (say 'n')\n",
    "# which means the max index value will be n - 1 = 2\n",
    "\n",
    "print(fruits[0], fruits[1], fruits[2])"
   ]
  },
  {
   "cell_type": "code",
   "execution_count": 40,
   "metadata": {},
   "outputs": [
    {
     "ename": "IndexError",
     "evalue": "list index out of range",
     "output_type": "error",
     "traceback": [
      "\u001b[1;31m---------------------------------------------------------------------------\u001b[0m",
      "\u001b[1;31mIndexError\u001b[0m                                Traceback (most recent call last)",
      "Cell \u001b[1;32mIn[40], line 2\u001b[0m\n\u001b[0;32m      1\u001b[0m \u001b[38;5;66;03m# What if we try to find 4th item (3rd index) in the list (fruits)\u001b[39;00m\n\u001b[1;32m----> 2\u001b[0m \u001b[38;5;28mprint\u001b[39m(fruits[\u001b[38;5;241m4\u001b[39m])\n",
      "\u001b[1;31mIndexError\u001b[0m: list index out of range"
     ]
    }
   ],
   "source": [
    "# What if we try to find 4th item (3rd index) in the list (fruits)\n",
    "print(fruits[4])\n",
    "\n",
    "# we'll have a error \"IndexError\" as the index value (=4) is not in range."
   ]
  },
  {
   "cell_type": "markdown",
   "metadata": {},
   "source": [
    "### Lists are mutable.\n",
    "It means after the creation of a list, we can <strong> change, add, and remove </strong> items."
   ]
  },
  {
   "cell_type": "code",
   "execution_count": 41,
   "metadata": {},
   "outputs": [
    {
     "data": {
      "text/plain": [
       "['apple', 'banana', 'strawberry']"
      ]
     },
     "execution_count": 41,
     "metadata": {},
     "output_type": "execute_result"
    }
   ],
   "source": [
    "fruits"
   ]
  },
  {
   "cell_type": "code",
   "execution_count": 42,
   "metadata": {},
   "outputs": [
    {
     "name": "stdout",
     "output_type": "stream",
     "text": [
      "['Orange', 'banana', 'strawberry']\n"
     ]
    }
   ],
   "source": [
    "# if we want to change the value of index:0\n",
    "fruits[0] = \"Orange\"\n",
    "\n",
    "# using indexing, we assigned a value to the 0th index as \"Orange\" which overrides the initial value \"Apple\"\n",
    "\n",
    "print(fruits)"
   ]
  },
  {
   "cell_type": "markdown",
   "metadata": {},
   "source": [
    "### Data Types\n",
    "List items can be of any data type like <b><u>Integer, String, Float as well as objects</u></b> because of which we can say <b><u>Lists are heterogenous</u></b>"
   ]
  },
  {
   "cell_type": "code",
   "execution_count": 43,
   "metadata": {},
   "outputs": [],
   "source": [
    "new_list = [1, 2, \"veggies\", 3.14, True, 7 + 6j]"
   ]
  },
  {
   "cell_type": "code",
   "execution_count": 44,
   "metadata": {},
   "outputs": [
    {
     "name": "stdout",
     "output_type": "stream",
     "text": [
      "<class 'int'> <class 'int'> <class 'str'> <class 'float'> <class 'bool'> <class 'complex'> "
     ]
    }
   ],
   "source": [
    "# we can determine each type of data stored in the list by\n",
    "for i in new_list:\n",
    "    print(type(i), end = \" \")"
   ]
  },
  {
   "cell_type": "code",
   "execution_count": 45,
   "metadata": {},
   "outputs": [
    {
     "name": "stdout",
     "output_type": "stream",
     "text": [
      "1 = <class 'int'>\n",
      "2 = <class 'int'>\n",
      "veggies = <class 'str'>\n",
      "3.14 = <class 'float'>\n",
      "True = <class 'bool'>\n",
      "(7+6j) = <class 'complex'>\n"
     ]
    }
   ],
   "source": [
    "# better we can use a built-in function: enumerate()\n",
    "for x, y in enumerate(new_list):\n",
    "    print(f\"{new_list[x]} = {type(y)}\")"
   ]
  },
  {
   "cell_type": "markdown",
   "metadata": {},
   "source": [
    "### Nested List\n",
    "<p>list defined inside another list</p>"
   ]
  },
  {
   "cell_type": "code",
   "execution_count": 46,
   "metadata": {},
   "outputs": [
    {
     "name": "stdout",
     "output_type": "stream",
     "text": [
      "[1, 2, 3, 4]\n",
      "[1, 2, 3, 4, [2, 4, 6, 8]]\n"
     ]
    }
   ],
   "source": [
    "# nested list\n",
    "# let's define two list as List_01 and List_02\n",
    "\n",
    "List_01 = [1, 2, 3, 4]\n",
    "print(List_01)\n",
    "\n",
    "List_02 = [2, 4, 6, 8]\n",
    "\n",
    "# and now as we know lists are mutable which means we can add or remove or change items\n",
    "# we can use this functionality to achieve nesting lists as shown below\n",
    "\n",
    "List_01 = [1, 2, 3, 4, List_02]\n",
    "print(List_01)"
   ]
  },
  {
   "cell_type": "code",
   "execution_count": 47,
   "metadata": {},
   "outputs": [],
   "source": [
    "# now there's another way of nesting lists using a built-in method of lists i.e. [ .append() ]\n",
    "List_01.append(List_02)"
   ]
  },
  {
   "cell_type": "code",
   "execution_count": 48,
   "metadata": {},
   "outputs": [
    {
     "name": "stdout",
     "output_type": "stream",
     "text": [
      "[1, 2, 3, 4, [2, 4, 6, 8], [2, 4, 6, 8]]\n"
     ]
    }
   ],
   "source": [
    "print(List_01)"
   ]
  },
  {
   "cell_type": "markdown",
   "metadata": {},
   "source": [
    "### Let's explore built-in methods of List\n",
    "<ul>\n",
    "    <li> <b>append():</b> Adds an element to the end of list </li>\n",
    "    <li> <b>extend():</b> Extend the list by adding elements from another iterable </li>\n",
    "    <li> <b>remove():</b> removes the first occurence of a specified position in the list </li>\n",
    "    <li> <b>pop():</b> removes and returns the specified index or else by default <b>the last element if no index is specified</b> </li>\n",
    "    <li> <b>clear()</b>: removes all elements from the list</li>\n",
    "    <li> <b>index()</b>: returns the index of the first occurence of a specified value </li>\n",
    "    <li> <b>count()</b>: returns the number of occurences of a specified value</li>\n",
    "    <li> <b>sort()</b>: sort the list in ascending order (or based on a custom key function such as reverse=False)</li>\n",
    "    <li> <b>reverse()</b>: reverses the order of elements in a list</li>\n",
    "    <li> <b>insert()</b>: inserts an element at a specified position in the list.</li>\n",
    "    <li> <b>copy()</b>: returns a copy of list </li>\n",
    "</ul>"
   ]
  },
  {
   "cell_type": "code",
   "execution_count": 49,
   "metadata": {},
   "outputs": [
    {
     "name": "stdout",
     "output_type": "stream",
     "text": [
      "['Orange', 'banana', 'strawberry', 'kiwi']\n"
     ]
    }
   ],
   "source": [
    "# append()\n",
    "fruits.append(\"kiwi\")\n",
    "\n",
    "print(fruits)"
   ]
  },
  {
   "cell_type": "code",
   "execution_count": 50,
   "metadata": {},
   "outputs": [
    {
     "name": "stdout",
     "output_type": "stream",
     "text": [
      "['Orange', 'banana', 'strawberry', 'kiwi', 'Lemon', 'Raspberry', 'Guava']\n"
     ]
    }
   ],
   "source": [
    "# extend()\n",
    "fruits.extend([\"Lemon\", \"Raspberry\", \"Guava\"]) # the argument passed inside extend() is a iterable: a List\n",
    "print(fruits)"
   ]
  },
  {
   "cell_type": "code",
   "execution_count": 51,
   "metadata": {},
   "outputs": [
    {
     "name": "stdout",
     "output_type": "stream",
     "text": [
      "['Orange', 'strawberry', 'kiwi', 'Lemon', 'Raspberry', 'Guava']\n"
     ]
    }
   ],
   "source": [
    "# remove()\n",
    "fruits.remove(\"banana\") # banana will be removed from the list\n",
    "print(fruits)"
   ]
  },
  {
   "cell_type": "code",
   "execution_count": 53,
   "metadata": {},
   "outputs": [
    {
     "name": "stdout",
     "output_type": "stream",
     "text": [
      "['Orange', 'strawberry', 'kiwi']\n",
      "The element removed using .pop() is kiwi\n",
      "['Orange', 'strawberry']\n"
     ]
    }
   ],
   "source": [
    "# pop()\n",
    "fruits.pop()\n",
    "print(f\"The element removed using .pop() is {fruits.pop()}\")\n",
    "\n",
    "print(fruits)"
   ]
  },
  {
   "cell_type": "code",
   "execution_count": 54,
   "metadata": {},
   "outputs": [
    {
     "name": "stdout",
     "output_type": "stream",
     "text": [
      "[]\n"
     ]
    }
   ],
   "source": [
    "# clear()\n",
    "fruits.clear() # removes every element in the list: fruits\n",
    "print(fruits)"
   ]
  },
  {
   "cell_type": "code",
   "execution_count": 55,
   "metadata": {},
   "outputs": [],
   "source": [
    "# index() and count()\n",
    "# let's add some fruit items to our list in order to see capabilities of other methods.\n",
    "fruits.extend([\"Pineapple\", \"Grape\", \"Pear\", \"Apple\", \"Watermelon\"])"
   ]
  },
  {
   "cell_type": "code",
   "execution_count": 56,
   "metadata": {},
   "outputs": [
    {
     "name": "stdout",
     "output_type": "stream",
     "text": [
      "['Pineapple', 'Grape', 'Pear', 'Apple', 'Watermelon']\n"
     ]
    }
   ],
   "source": [
    "print(fruits)"
   ]
  },
  {
   "cell_type": "code",
   "execution_count": 57,
   "metadata": {},
   "outputs": [],
   "source": [
    "# before using index() let's add some duplicate value to the list\n",
    "fruits.extend([\"Apple\", \"Grape\", \"Pear\"])"
   ]
  },
  {
   "cell_type": "code",
   "execution_count": 59,
   "metadata": {},
   "outputs": [
    {
     "name": "stdout",
     "output_type": "stream",
     "text": [
      "['Pineapple', 'Grape', 'Pear', 'Apple', 'Watermelon', 'Apple', 'Grape', 'Pear']\n",
      "3\n"
     ]
    }
   ],
   "source": [
    "print(fruits)\n",
    "\n",
    "print(fruits.index(\"Apple\"))"
   ]
  },
  {
   "cell_type": "code",
   "execution_count": 62,
   "metadata": {},
   "outputs": [
    {
     "name": "stdout",
     "output_type": "stream",
     "text": [
      "Pineapple = 0\n",
      "Grape = 1\n",
      "Pear = 2\n",
      "Apple = 3\n",
      "Watermelon = 4\n",
      "Apple = 5\n",
      "Grape = 6\n",
      "Pear = 7\n"
     ]
    }
   ],
   "source": [
    "# in-order to visualize the funcionality in detail\n",
    "\n",
    "for index, fruit_index in enumerate(fruits):\n",
    "    \"\"\"\n",
    "    index: int (index value)\n",
    "    fruit: str\n",
    "    \"\"\"\n",
    "    print(f\"{fruit_index} = {index}\")"
   ]
  },
  {
   "cell_type": "markdown",
   "metadata": {},
   "source": [
    "<li>Here we can see, after using index() functions the index values of some of the items are same as the first occurence.</li>\n",
    "<li>e.g. <em><b><u>Apple</u></b></em> first occurred in index: <b>3</b> and then at index: <b>5</b></li>\n",
    "<li>index() will return the first occurence of the item in the list which is <b>3</b> (for <em>Apple</em>)</li>"
   ]
  },
  {
   "cell_type": "code",
   "execution_count": 73,
   "metadata": {},
   "outputs": [
    {
     "name": "stdout",
     "output_type": "stream",
     "text": [
      "Apple has occured 2 times in the list.\n"
     ]
    }
   ],
   "source": [
    "# count()\n",
    "print(f\"Apple has occured {fruits.count('Apple')} times in the list.\")"
   ]
  },
  {
   "cell_type": "code",
   "execution_count": 86,
   "metadata": {},
   "outputs": [
    {
     "name": "stdout",
     "output_type": "stream",
     "text": [
      "['Apple', 'Apple', 'Grape', 'Grape', 'Pear', 'Pear', 'Pineapple', 'Watermelon']\n",
      "===============================================================================\n",
      "reversed list: ->>\n",
      "['Watermelon', 'Pineapple', 'Pear', 'Pear', 'Grape', 'Grape', 'Apple', 'Apple']\n"
     ]
    }
   ],
   "source": [
    "# sort() and reverse()\n",
    "\n",
    "fruits.sort() # ascending order\n",
    "print(fruits)\n",
    "\n",
    "print(\"===============================================================================\")\n",
    "\n",
    "print(\"reversed list: ->>\")\n",
    "fruits.sort(reverse=True) # descending order\n",
    "print(fruits)"
   ]
  },
  {
   "cell_type": "code",
   "execution_count": 88,
   "metadata": {},
   "outputs": [
    {
     "name": "stdout",
     "output_type": "stream",
     "text": [
      "['Watermelon', 'Pineapple', 'Pear', 'Pear', 'Grape', 'Grape', 'Apple', 'Apple']\n"
     ]
    }
   ],
   "source": [
    "# reverse()\n",
    "fruits.sort()\n",
    "\n",
    "fruits.reverse()\n",
    "print(fruits)"
   ]
  },
  {
   "cell_type": "code",
   "execution_count": 91,
   "metadata": {},
   "outputs": [
    {
     "name": "stdout",
     "output_type": "stream",
     "text": [
      "['Watermelon', 'Pineapple', 'Pear', 'Pomegranate', 'Pomegranate', 'Pomegranate', 'Pear', 'Grape', 'Grape', 'Apple', 'Apple']\n"
     ]
    }
   ],
   "source": [
    "# insert()\n",
    "fruits.insert(3, \"Pomegranate\")\n",
    "\n",
    "# subsequnetly the duplicates will also be changed.\n",
    "print(fruits)"
   ]
  },
  {
   "cell_type": "code",
   "execution_count": 93,
   "metadata": {},
   "outputs": [
    {
     "name": "stdout",
     "output_type": "stream",
     "text": [
      "['Watermelon', 'Pineapple', 'Pear', 'Pomegranate', 'Pomegranate', 'Pomegranate', 'Pear', 'Grape', 'Grape', 'Apple', 'Apple']\n",
      "True\n"
     ]
    }
   ],
   "source": [
    "# copy()\n",
    "fruits_copy = fruits.copy()\n",
    "print(fruits_copy)\n",
    "\n",
    "# lets check\n",
    "print(fruits_copy == fruits)"
   ]
  },
  {
   "cell_type": "markdown",
   "metadata": {},
   "source": [
    "### List Slicing"
   ]
  },
  {
   "cell_type": "markdown",
   "metadata": {},
   "source": [
    "<p> [ <b>start</b> : <b>stop</b> : <b>step</b> ] </p>"
   ]
  },
  {
   "cell_type": "code",
   "execution_count": 96,
   "metadata": {},
   "outputs": [
    {
     "name": "stdout",
     "output_type": "stream",
     "text": [
      "[2, 4, 6, 8, 10, 12, 14, 16, 18, 20, 22, 24, 26, 28, 30, 32, 34, 36, 38, 40, 42, 44, 46, 48, 50]\n"
     ]
    }
   ],
   "source": [
    "# let's try with examples\n",
    "# generate a list of even integers upto 50.\n",
    "\n",
    "even_numbers = [x for x in range(1, 51) if x % 2 == 0]\n",
    "print(even_numbers)"
   ]
  },
  {
   "cell_type": "code",
   "execution_count": 99,
   "metadata": {},
   "outputs": [
    {
     "data": {
      "text/plain": [
       "[2,\n",
       " 4,\n",
       " 6,\n",
       " 8,\n",
       " 10,\n",
       " 12,\n",
       " 14,\n",
       " 16,\n",
       " 18,\n",
       " 20,\n",
       " 22,\n",
       " 24,\n",
       " 26,\n",
       " 28,\n",
       " 30,\n",
       " 32,\n",
       " 34,\n",
       " 36,\n",
       " 38,\n",
       " 40,\n",
       " 42,\n",
       " 44,\n",
       " 46,\n",
       " 48,\n",
       " 50]"
      ]
     },
     "execution_count": 99,
     "metadata": {},
     "output_type": "execute_result"
    }
   ],
   "source": [
    "# let's try to make slices of the (even_numbers) list\n",
    "even_numbers[::]"
   ]
  },
  {
   "cell_type": "code",
   "execution_count": 100,
   "metadata": {},
   "outputs": [
    {
     "data": {
      "text/plain": [
       "[2, 4, 6, 8, 10, 12, 14, 16, 18, 20]"
      ]
     },
     "execution_count": 100,
     "metadata": {},
     "output_type": "execute_result"
    }
   ],
   "source": [
    "even_numbers[0:10]"
   ]
  },
  {
   "cell_type": "code",
   "execution_count": 101,
   "metadata": {},
   "outputs": [
    {
     "data": {
      "text/plain": [
       "25"
      ]
     },
     "execution_count": 101,
     "metadata": {},
     "output_type": "execute_result"
    }
   ],
   "source": [
    "len(even_numbers)"
   ]
  },
  {
   "cell_type": "code",
   "execution_count": 105,
   "metadata": {},
   "outputs": [
    {
     "name": "stdout",
     "output_type": "stream",
     "text": [
      "[2, 4, 6, 8, 10, 12, 14, 16, 18, 20, 22, 24, 26, 28, 30, 32, 34, 36, 38, 40, 42, 44, 46, 48, 50]\n"
     ]
    },
    {
     "data": {
      "text/plain": [
       "[10, 16, 22, 28, 34, 40]"
      ]
     },
     "execution_count": 105,
     "metadata": {},
     "output_type": "execute_result"
    }
   ],
   "source": [
    "print(even_numbers)\n",
    "even_numbers[4:20:3]"
   ]
  },
  {
   "cell_type": "markdown",
   "metadata": {},
   "source": [
    "<h4><em>Soumesh Khuntia</em></h4>"
   ]
  }
 ],
 "metadata": {
  "kernelspec": {
   "display_name": "Python 3 (ipykernel)",
   "language": "python",
   "name": "python3"
  },
  "language_info": {
   "codemirror_mode": {
    "name": "ipython",
    "version": 3
   },
   "file_extension": ".py",
   "mimetype": "text/x-python",
   "name": "python",
   "nbconvert_exporter": "python",
   "pygments_lexer": "ipython3",
   "version": "3.11.8"
  }
 },
 "nbformat": 4,
 "nbformat_minor": 4
}
